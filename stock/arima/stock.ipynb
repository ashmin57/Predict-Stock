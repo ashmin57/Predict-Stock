{
  "nbformat": 4,
  "nbformat_minor": 0,
  "metadata": {
    "colab": {
      "provenance": [],
      "authorship_tag": "ABX9TyPInKNU98hbWnhxycL3mrIa",
      "include_colab_link": true
    },
    "kernelspec": {
      "name": "python3",
      "display_name": "Python 3"
    },
    "language_info": {
      "name": "python"
    }
  },
  "cells": [
    {
      "cell_type": "markdown",
      "metadata": {
        "id": "view-in-github",
        "colab_type": "text"
      },
      "source": [
        "<a href=\"https://colab.research.google.com/github/Salinastha37/arima/blob/master/stock.ipynb\" target=\"_parent\"><img src=\"https://colab.research.google.com/assets/colab-badge.svg\" alt=\"Open In Colab\"/></a>"
      ]
    },
    {
      "cell_type": "code",
      "execution_count": 1,
      "metadata": {
        "colab": {
          "base_uri": "https://localhost:8080/"
        },
        "id": "TtmZ3TxvRUsv",
        "outputId": "f91c20b5-931a-4339-afe4-fa4cef8836c5"
      },
      "outputs": [
        {
          "output_type": "stream",
          "name": "stdout",
          "text": [
            "Requirement already satisfied: yfinance in /usr/local/lib/python3.10/dist-packages (0.2.25)\n",
            "Requirement already satisfied: pandas>=1.3.0 in /usr/local/lib/python3.10/dist-packages (from yfinance) (1.5.3)\n",
            "Requirement already satisfied: numpy>=1.16.5 in /usr/local/lib/python3.10/dist-packages (from yfinance) (1.22.4)\n",
            "Requirement already satisfied: requests>=2.26 in /usr/local/lib/python3.10/dist-packages (from yfinance) (2.27.1)\n",
            "Requirement already satisfied: multitasking>=0.0.7 in /usr/local/lib/python3.10/dist-packages (from yfinance) (0.0.11)\n",
            "Requirement already satisfied: lxml>=4.9.1 in /usr/local/lib/python3.10/dist-packages (from yfinance) (4.9.3)\n",
            "Requirement already satisfied: appdirs>=1.4.4 in /usr/local/lib/python3.10/dist-packages (from yfinance) (1.4.4)\n",
            "Requirement already satisfied: pytz>=2022.5 in /usr/local/lib/python3.10/dist-packages (from yfinance) (2022.7.1)\n",
            "Requirement already satisfied: frozendict>=2.3.4 in /usr/local/lib/python3.10/dist-packages (from yfinance) (2.3.8)\n",
            "Requirement already satisfied: beautifulsoup4>=4.11.1 in /usr/local/lib/python3.10/dist-packages (from yfinance) (4.11.2)\n",
            "Requirement already satisfied: html5lib>=1.1 in /usr/local/lib/python3.10/dist-packages (from yfinance) (1.1)\n",
            "Requirement already satisfied: soupsieve>1.2 in /usr/local/lib/python3.10/dist-packages (from beautifulsoup4>=4.11.1->yfinance) (2.4.1)\n",
            "Requirement already satisfied: six>=1.9 in /usr/local/lib/python3.10/dist-packages (from html5lib>=1.1->yfinance) (1.16.0)\n",
            "Requirement already satisfied: webencodings in /usr/local/lib/python3.10/dist-packages (from html5lib>=1.1->yfinance) (0.5.1)\n",
            "Requirement already satisfied: python-dateutil>=2.8.1 in /usr/local/lib/python3.10/dist-packages (from pandas>=1.3.0->yfinance) (2.8.2)\n",
            "Requirement already satisfied: urllib3<1.27,>=1.21.1 in /usr/local/lib/python3.10/dist-packages (from requests>=2.26->yfinance) (1.26.16)\n",
            "Requirement already satisfied: certifi>=2017.4.17 in /usr/local/lib/python3.10/dist-packages (from requests>=2.26->yfinance) (2023.7.22)\n",
            "Requirement already satisfied: charset-normalizer~=2.0.0 in /usr/local/lib/python3.10/dist-packages (from requests>=2.26->yfinance) (2.0.12)\n",
            "Requirement already satisfied: idna<4,>=2.5 in /usr/local/lib/python3.10/dist-packages (from requests>=2.26->yfinance) (3.4)\n"
          ]
        }
      ],
      "source": [
        "!pip install yfinance\n"
      ]
    },
    {
      "cell_type": "code",
      "source": [
        "import yfinance as yf\n",
        "stock_symbol = 'GAIL.NS'\n",
        "data = yf.download(tickers= stock_symbol, period='5y', interval='1d')"
      ],
      "metadata": {
        "id": "ELRZ8Bj1SDoJ"
      },
      "execution_count": null,
      "outputs": []
    },
    {
      "cell_type": "code",
      "source": [
        "type(data)\n"
      ],
      "metadata": {
        "id": "dP6vHKxvSXl0"
      },
      "execution_count": null,
      "outputs": []
    },
    {
      "cell_type": "code",
      "source": [
        "data.head()"
      ],
      "metadata": {
        "id": "xkOHiFjnScHk"
      },
      "execution_count": null,
      "outputs": []
    },
    {
      "cell_type": "code",
      "source": [
        "data.tail"
      ],
      "metadata": {
        "id": "XU0U8D6xSeOc"
      },
      "execution_count": null,
      "outputs": []
    },
    {
      "cell_type": "code",
      "source": [
        "opn = data[['Open']]"
      ],
      "metadata": {
        "id": "cmxD8HolShOz"
      },
      "execution_count": null,
      "outputs": []
    },
    {
      "cell_type": "code",
      "source": [
        "opn.plot"
      ],
      "metadata": {
        "id": "02nC5zOdSle7"
      },
      "execution_count": null,
      "outputs": []
    },
    {
      "cell_type": "code",
      "source": [
        "import matplotlib.pyplot as plt\n"
      ],
      "metadata": {
        "id": "d6KimD4eSnva"
      },
      "execution_count": null,
      "outputs": []
    },
    {
      "cell_type": "code",
      "source": [
        "ds = opn.values\n",
        "ds"
      ],
      "metadata": {
        "id": "Lho6nRNlSvKO"
      },
      "execution_count": null,
      "outputs": []
    },
    {
      "cell_type": "code",
      "source": [
        "plt.plot(ds);"
      ],
      "metadata": {
        "id": "ZN4ZriZdSzH8"
      },
      "execution_count": null,
      "outputs": []
    },
    {
      "cell_type": "code",
      "source": [
        "import numpy as np\n",
        "from sklearn.preprocessing import MinMaxScaler\n"
      ],
      "metadata": {
        "id": "LoEmEHwLS1tx"
      },
      "execution_count": null,
      "outputs": []
    },
    {
      "cell_type": "code",
      "source": [
        "normalizer = MinMaxScaler(feature_range=(0,1))\n",
        "ds_scaled = normalizer.fit_transform(np.array(ds).reshape(-1,1))"
      ],
      "metadata": {
        "id": "QoVL2CuqS_0_"
      },
      "execution_count": null,
      "outputs": []
    },
    {
      "cell_type": "code",
      "source": [
        "len(ds_scaled),len(ds)"
      ],
      "metadata": {
        "id": "jJWTWXJvTdu6"
      },
      "execution_count": null,
      "outputs": []
    },
    {
      "cell_type": "code",
      "source": [
        "train_size = int(len(ds_scaled)*0.70)\n",
        "test_size = len(ds_scaled)-train_size"
      ],
      "metadata": {
        "id": "gXrTeHGCTlR2"
      },
      "execution_count": null,
      "outputs": []
    },
    {
      "cell_type": "code",
      "source": [
        "train_size,test_size"
      ],
      "metadata": {
        "id": "2caYu75UT0LK"
      },
      "execution_count": null,
      "outputs": []
    },
    {
      "cell_type": "code",
      "source": [
        "ds_train,ds_test= ds_scaled[0:train_size,:],ds_scaled[train_size:len(Ds_scaled),:1]"
      ],
      "metadata": {
        "id": "APJt9aTcT5cS"
      },
      "execution_count": null,
      "outputs": []
    },
    {
      "cell_type": "code",
      "source": [
        "len(ds_train),len(ds_test)"
      ],
      "metadata": {
        "id": "h82QHGjeYh5B"
      },
      "execution_count": null,
      "outputs": []
    },
    {
      "cell_type": "code",
      "source": [
        "#creating dataset in time series for lstm\n",
        "def create_ds(dataset,step):\n",
        "  Xtrain,Ytrain =[],[]\n",
        "  for i in range(len(dataset)-step-1):\n",
        "    a =dataset[i:(i+step),0]\n",
        "    Xtrain.append(a)\n",
        "    Ytrain.append(dataset[i+step,0])\n",
        "    return np.array(Xtrain), np.array(Ytrain)"
      ],
      "metadata": {
        "id": "NAwXCbezYnBT"
      },
      "execution_count": null,
      "outputs": []
    },
    {
      "cell_type": "code",
      "source": [
        "#taking 100 days price as one record for training\n",
        "time_stamp = 100\n",
        "x_train,y_train = create_ds(ds_train, time_stamp)\n",
        "x_test,y_test = create_ds(ds_test,time_stamp)"
      ],
      "metadata": {
        "id": "KhsK8AgqZJb8"
      },
      "execution_count": null,
      "outputs": []
    },
    {
      "cell_type": "code",
      "source": [
        "x_train.shape,y_train.shape\n"
      ],
      "metadata": {
        "id": "3SQ33NO9Zf2b"
      },
      "execution_count": null,
      "outputs": []
    },
    {
      "cell_type": "code",
      "source": [
        "x_test.shape,y_test.shape"
      ],
      "metadata": {
        "id": "UJaEAymWZk4q"
      },
      "execution_count": null,
      "outputs": []
    },
    {
      "cell_type": "code",
      "source": [
        "#reshaping data to fit into LSTM model\n",
        "x_train = x_train.reshape(x_train.shape[0], x_train.shape[1],1)\n",
        "x_test = x_test.reshape(x_test.shape[0],x_test.shape[1],1)"
      ],
      "metadata": {
        "id": "5sWFv42fZoHF"
      },
      "execution_count": null,
      "outputs": []
    },
    {
      "cell_type": "code",
      "source": [
        "from keras.models import Sequential\n",
        "from keras.layers import Dense,LSTM"
      ],
      "metadata": {
        "id": "KioShRUTaAEb"
      },
      "execution_count": null,
      "outputs": []
    },
    {
      "cell_type": "code",
      "source": [
        "#creating LSTM model using keras\n",
        "model =Sequential()\n",
        "model.add(LSTM(units=50,return_sequences=True,input_shape=(x_train.shape[1],1)))\n",
        "model.add(LSTM(units=50,return_sequences=True))\n",
        "model.add(LSTM(units=50))\n",
        "model.add(Dense(units=1,activation='linear'))\n",
        "model.summary()"
      ],
      "metadata": {
        "id": "Ir41qfOdaHq9"
      },
      "execution_count": null,
      "outputs": []
    },
    {
      "cell_type": "code",
      "source": [
        "#training model with adam optimizer and mean squared error loss function\n",
        "model.compile(loss='mean_sqaured_error',optimizer='adam')\n",
        "model.fit(x_train,y_train,validation_data=(x_test,y_test), epochs=100,batch_size =64)"
      ],
      "metadata": {
        "id": "i7r2L4GCa2FD"
      },
      "execution_count": null,
      "outputs": []
    },
    {
      "cell_type": "code",
      "source": [
        "#plottimg loss, it shows that loss has decreased significantly and model trained well\n",
        "loss = model.history.history['loss']\n",
        "plt.plt(loss)"
      ],
      "metadata": {
        "id": "pLKiW8FRbV3Q"
      },
      "execution_count": null,
      "outputs": []
    },
    {
      "cell_type": "code",
      "source": [
        "#predicting on train and test data\n",
        "train_predict = model.predict(x_train)\n",
        "test_product = model.product(x_test)"
      ],
      "metadata": {
        "id": "Qfj7gGoLbjwB"
      },
      "execution_count": null,
      "outputs": []
    },
    {
      "cell_type": "code",
      "source": [
        "#inverse transform to get actual value\n",
        "train_predict = normalizer.inverse_transform(train_predict)\n",
        "test_predict = normalizer.inverse_transform(test_predict)"
      ],
      "metadata": {
        "id": "sPl-wyMzcDSK"
      },
      "execution_count": null,
      "outputs": []
    },
    {
      "cell_type": "code",
      "source": [
        "#comparing using visuals\n",
        "plt.plot(normalizer.inverse_transform(ds_scaled))\n",
        "plt.plot(train_predict)\n",
        "plt.plot(test_predict)"
      ],
      "metadata": {
        "id": "C_DE7MkVcUVp"
      },
      "execution_count": null,
      "outputs": []
    },
    {
      "cell_type": "code",
      "source": [
        "type(train_predict)"
      ],
      "metadata": {
        "id": "CP67Ri_HciPM"
      },
      "execution_count": null,
      "outputs": []
    },
    {
      "cell_type": "code",
      "source": [
        "test= np.vstack((train_predict ,test_predict))"
      ],
      "metadata": {
        "id": "FR4PNAbgdN3P"
      },
      "execution_count": null,
      "outputs": []
    },
    {
      "cell_type": "code",
      "source": [
        "#combining the predicted data to create uniform data visualization\n",
        "plt.plot(normalizer.inverse_transform(ds_scaled))\n",
        "plt.plot(test)"
      ],
      "metadata": {
        "id": "JryUGA42del8"
      },
      "execution_count": null,
      "outputs": []
    },
    {
      "cell_type": "code",
      "source": [
        "len(ds_test)"
      ],
      "metadata": {
        "id": "Jms1gq87ds1W"
      },
      "execution_count": null,
      "outputs": []
    },
    {
      "cell_type": "code",
      "source": [
        "#getting the last 100 days records\n",
        "fut_inp = ds_test[270:]"
      ],
      "metadata": {
        "id": "PDEUG8FQdwG7"
      },
      "execution_count": null,
      "outputs": []
    },
    {
      "cell_type": "code",
      "source": [
        "fut_inp = fut_inp.reshape(1,-1)"
      ],
      "metadata": {
        "id": "Po3KUD9rd7Gl"
      },
      "execution_count": null,
      "outputs": []
    },
    {
      "cell_type": "code",
      "source": [
        "tmp_inp = list(fut_inp)"
      ],
      "metadata": {
        "id": "hP0RYJHIeAN2"
      },
      "execution_count": null,
      "outputs": []
    },
    {
      "cell_type": "code",
      "source": [
        "#creating list of the last 100 days\n",
        "tmp_inp = tmp_inp[0].tolist()"
      ],
      "metadata": {
        "id": "DHA1iulveGyQ"
      },
      "execution_count": null,
      "outputs": []
    },
    {
      "cell_type": "code",
      "source": [
        "#predicting next 30 days price suing the current data\n",
        "#It will predict in sliding window manner (algorithm) with stride 1\n",
        "lst_output=[]\n",
        "n_steps=100\n",
        "i=0\n",
        "while(i<30):\n",
        "  if(len(tmp_inp)>100):\n",
        "      fut_inp = np.array(tmp_inp[1:])\n",
        "      fut_inp = fut_inp.reshape(1,-1)\n",
        "      fut_inp= fut_inp.reshape((1, n_steps,1))\n",
        "      yhat = model.predict(fut_inp, verbose=0)\n",
        "      tmp_inp.extend(yhat[0].tolist())\n",
        "      tmp_inp = tmp_inp[1:]\n",
        "      lst_output.extend(yhat.tolist())\n",
        "      i =i+1\n",
        "  else:\n",
        "      fut_inp = fut_inp.reshape((1, n_steps,1))\n",
        "      yhat = model.predict(fut_inp,verbose=0)\n",
        "      tmp_inp.extend(yhat.tolist())\n",
        "      i=i+1\n",
        "\n",
        "print(lst_output)\n",
        ""
      ],
      "metadata": {
        "id": "fkWdM36CeP1v"
      },
      "execution_count": null,
      "outputs": []
    },
    {
      "cell_type": "code",
      "source": [
        "len(ds_scaled)"
      ],
      "metadata": {
        "id": "hU3ifGTOfzZi"
      },
      "execution_count": null,
      "outputs": []
    },
    {
      "cell_type": "code",
      "source": [
        "#creating a dummy plane to plt graph one after another\n",
        "plot_new = np.arrange\n",
        "plot_pred = np.arrange(101,131)\n",
        "ds_new = ds_scaled.tolist()"
      ],
      "metadata": {
        "id": "v8HQwtblf2YX"
      },
      "execution_count": null,
      "outputs": []
    },
    {
      "cell_type": "code",
      "source": [
        "len(ds_new)"
      ],
      "metadata": {
        "id": "YM2WbJXIgEDE"
      },
      "execution_count": null,
      "outputs": []
    },
    {
      "cell_type": "code",
      "source": [
        "#plotting final results with predicted value after 30 days\n",
        "plt.plot(final_graph,)\n",
        "plt.ylabel(\"Price\")\n",
        "plt.xlabel(\"Time\")\n",
        "plt.title(\"{0} prediction of next month open\".format(stock_symbol))\n",
        "plt.axhline(y=final_graph[len(final_graph)-1],color='red',linestyle=\":\",label='NEXT 30D:{0}')\n",
        "plt.legend()"
      ],
      "metadata": {
        "id": "7jQuJ0FSgGb2"
      },
      "execution_count": null,
      "outputs": []
    },
    {
      "cell_type": "code",
      "source": [
        "#entends helps us to fill the missing value with appox line\n",
        "ds_new.extends(lst_output)\n",
        "plt.plot(ds_new[1200:])"
      ],
      "metadata": {
        "id": "rHhUHbX_g7IM"
      },
      "execution_count": null,
      "outputs": []
    },
    {
      "cell_type": "code",
      "source": [
        "#creating final data for plotting\n",
        "final_graph = normalizer.inverse_transform(ds_new).tolist()"
      ],
      "metadata": {
        "id": "2jLG_SvMhF4-"
      },
      "execution_count": null,
      "outputs": []
    },
    {
      "cell_type": "code",
      "source": [
        "plotting final results with predicted value after 30 days\n",
        "plt.plot(final_graph)\n",
        "plt.ylabel(\"Price\")\n",
        "plt.xlabel(\"Time\")\n",
        "plt.title(\"{0} prediction of next month open\".format(stock_symbol))\n",
        "plt.axhline(y=final_graph[len(final_graph)-1],color='red',linestyle=\":\",label='NEXT 30D:{0}')\n",
        "plt.legend()"
      ],
      "metadata": {
        "id": "NPDfy0g0hP3o"
      },
      "execution_count": null,
      "outputs": []
    }
  ]
}